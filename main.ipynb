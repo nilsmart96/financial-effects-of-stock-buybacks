{
 "cells": [
  {
   "cell_type": "code",
   "execution_count": 66,
   "metadata": {},
   "outputs": [],
   "source": [
    "# import of necessary libraries\n",
    "import yfinance as yf\n",
    "import pandas as pd\n",
    "import matplotlib.pyplot as plt"
   ]
  },
  {
   "cell_type": "code",
   "execution_count": 67,
   "metadata": {},
   "outputs": [],
   "source": [
    "# connecting to the API for the companies\n",
    "msft = yf.Ticker(\"MSFT\")\n",
    "aapl = yf.Ticker(\"AAPL\")\n",
    "ibm = yf.Ticker(\"IBM\")"
   ]
  },
  {
   "cell_type": "code",
   "execution_count": 68,
   "metadata": {},
   "outputs": [],
   "source": [
    "# retrieving the required company data\n",
    "msft_info = msft.info\n",
    "aapl_info = aapl.info\n",
    "ibm_info = ibm.info\n",
    "\n",
    "msft_pl = msft.financials\n",
    "aapl_pl = aapl.financials\n",
    "ibm_pl = ibm.financials\n",
    "\n",
    "msft_bs = msft.balance_sheet\n",
    "aapl_bs = aapl.balance_sheet\n",
    "ibm_bs = ibm.balance_sheet\n",
    "\n",
    "msft_cf = msft.cashflow\n",
    "aapl_cf = aapl.cashflow\n",
    "ibm_cf = ibm.cashflow"
   ]
  },
  {
   "cell_type": "code",
   "execution_count": 69,
   "metadata": {},
   "outputs": [],
   "source": [
    "# organizing the values in a dictionary\n",
    "comp_dict = [\n",
    "    {\"comp\": \"Microsoft\", \"info\": msft_info, \"pl\": msft_pl, \"bs\": msft_bs, \"cf\": msft_cf},\n",
    "    {\"comp\": \"Apple\", \"info\": aapl_info, \"pl\": aapl_pl, \"bs\": aapl_bs, \"cf\": aapl_cf},\n",
    "    {\"comp\": \"IBM\", \"info\": ibm_info, \"pl\": ibm_pl, \"bs\": ibm_bs, \"cf\": ibm_cf}\n",
    "]"
   ]
  },
  {
   "cell_type": "code",
   "execution_count": 70,
   "metadata": {},
   "outputs": [],
   "source": [
    "# function to calculate the different financial ratios\n",
    "def ratio_collection(info, pl, bs, cf):\n",
    "\n",
    "    net_profit_margin = pl.loc[\"Net Income\"][0] / pl.loc[\"Total Revenue\"][0]\n",
    "    asset_turnover = pl.loc[\"Total Revenue\"][0] / bs.loc[\"Total Assets\"][0]\n",
    "    equity_mulitplier = bs.loc[\"Total Assets\"][0] / bs.loc[\"Total Stockholder Equity\"][0]\n",
    "    leverage = bs.loc[\"Total Liab\"][0] / bs.loc[\"Total Stockholder Equity\"][0]\n",
    "    buyback_ratio = cf.loc[\"Repurchase Of Stock\"][0] * -1 / info[\"marketCap\"]\n",
    "    ROE = net_profit_margin * asset_turnover * equity_mulitplier\n",
    "    EPS = pl.loc[\"Net Income\"][0] / info[\"sharesOutstanding\"]\n",
    "\n",
    "    return net_profit_margin, asset_turnover, equity_mulitplier, leverage, buyback_ratio, ROE, EPS"
   ]
  },
  {
   "cell_type": "code",
   "execution_count": 71,
   "metadata": {},
   "outputs": [],
   "source": [
    "# Loop that iterates through the dictionary and uses the function above\n",
    "# to calculate the respective ratios.\n",
    "for entity in comp_dict:\n",
    "    result = list(ratio_collection(info=entity[\"info\"], pl=entity[\"pl\"], \n",
    "    bs=entity[\"bs\"], cf=entity[\"cf\"]))\n",
    "\n",
    "    entity[\"net_profit_margin\"] = result[0]\n",
    "    entity[\"asset_turnover\"] = result[1]\n",
    "    entity[\"equity_mulitplier\"] = result[2]\n",
    "    entity[\"leverage\"] = result[3]\n",
    "    entity[\"buyback_ratio\"] = result[4]\n",
    "    entity[\"ROE\"] = result[5]\n",
    "    entity[\"EPS\"] = result[6]"
   ]
  },
  {
   "cell_type": "code",
   "execution_count": 72,
   "metadata": {},
   "outputs": [
    {
     "data": {
      "text/html": [
       "<div>\n",
       "<style scoped>\n",
       "    .dataframe tbody tr th:only-of-type {\n",
       "        vertical-align: middle;\n",
       "    }\n",
       "\n",
       "    .dataframe tbody tr th {\n",
       "        vertical-align: top;\n",
       "    }\n",
       "\n",
       "    .dataframe thead th {\n",
       "        text-align: right;\n",
       "    }\n",
       "</style>\n",
       "<table border=\"1\" class=\"dataframe\">\n",
       "  <thead>\n",
       "    <tr style=\"text-align: right;\">\n",
       "      <th></th>\n",
       "      <th>comp</th>\n",
       "      <th>net_profit_margin</th>\n",
       "      <th>asset_turnover</th>\n",
       "      <th>equity_mulitplier</th>\n",
       "      <th>leverage</th>\n",
       "      <th>buyback_ratio</th>\n",
       "      <th>ROE</th>\n",
       "      <th>EPS</th>\n",
       "    </tr>\n",
       "  </thead>\n",
       "  <tbody>\n",
       "    <tr>\n",
       "      <th>0</th>\n",
       "      <td>Microsoft</td>\n",
       "      <td>0.366863</td>\n",
       "      <td>0.543444</td>\n",
       "      <td>2.190679</td>\n",
       "      <td>1.190679</td>\n",
       "      <td>0.017900</td>\n",
       "      <td>0.436755</td>\n",
       "      <td>9.757635</td>\n",
       "    </tr>\n",
       "    <tr>\n",
       "      <th>1</th>\n",
       "      <td>Apple</td>\n",
       "      <td>0.253096</td>\n",
       "      <td>1.117852</td>\n",
       "      <td>6.961537</td>\n",
       "      <td>5.961537</td>\n",
       "      <td>0.040026</td>\n",
       "      <td>1.969589</td>\n",
       "      <td>6.273722</td>\n",
       "    </tr>\n",
       "    <tr>\n",
       "      <th>2</th>\n",
       "      <td>IBM</td>\n",
       "      <td>0.100138</td>\n",
       "      <td>0.434474</td>\n",
       "      <td>6.983810</td>\n",
       "      <td>5.978784</td>\n",
       "      <td>0.002387</td>\n",
       "      <td>0.303846</td>\n",
       "      <td>6.407310</td>\n",
       "    </tr>\n",
       "  </tbody>\n",
       "</table>\n",
       "</div>"
      ],
      "text/plain": [
       "        comp  net_profit_margin  asset_turnover  equity_mulitplier  leverage  \\\n",
       "0  Microsoft           0.366863        0.543444           2.190679  1.190679   \n",
       "1      Apple           0.253096        1.117852           6.961537  5.961537   \n",
       "2        IBM           0.100138        0.434474           6.983810  5.978784   \n",
       "\n",
       "   buyback_ratio       ROE       EPS  \n",
       "0       0.017900  0.436755  9.757635  \n",
       "1       0.040026  1.969589  6.273722  \n",
       "2       0.002387  0.303846  6.407310  "
      ]
     },
     "execution_count": 72,
     "metadata": {},
     "output_type": "execute_result"
    }
   ],
   "source": [
    "# organizing the results in a dataframe\n",
    "df = pd.DataFrame(comp_dict)\n",
    "df = df.drop(columns=[\"info\", \"pl\", \"bs\", \"cf\"])\n",
    "df.head()"
   ]
  },
  {
   "cell_type": "code",
   "execution_count": 73,
   "metadata": {},
   "outputs": [],
   "source": [
    "info = msft_info\n",
    "pl = msft_pl\n",
    "bs = msft_bs\n",
    "cf = msft_cf"
   ]
  },
  {
   "cell_type": "code",
   "execution_count": 74,
   "metadata": {},
   "outputs": [],
   "source": [
    "#info = aapl_info\n",
    "#pl = aapl_pl\n",
    "#bs = aapl_bs\n",
    "#cf = aapl_cf"
   ]
  },
  {
   "cell_type": "code",
   "execution_count": 75,
   "metadata": {},
   "outputs": [],
   "source": [
    "#info = ibm_info\n",
    "#pl = ibm_pl\n",
    "#bs = ibm_bs\n",
    "#cf = ibm_cf"
   ]
  },
  {
   "cell_type": "code",
   "execution_count": 76,
   "metadata": {},
   "outputs": [
    {
     "name": "stdout",
     "output_type": "stream",
     "text": [
      "old net_profit_margin: 0.3668633681343622\n",
      "new net_profit_margin: 0.3668633681343622\n",
      "old asset_turnover: 0.5434437013485364\n",
      "new asset_turnover: 0.5434437013485364\n",
      "old equity_mulitplier: 2.1906786276134547\n",
      "new equity_mulitplier: 2.258483861782075\n",
      "old leverage: 1.1906786276134549\n",
      "new leverage: 1.2275321588193782\n",
      "old buyback_ratio: 0.01790022912472676\n",
      "new buyback_ratio: 0.020637602064035355\n",
      "old ROE: 0.43675469250999743\n",
      "new ROE: 0.45027299402013093\n",
      "old EPS: 9.757635163184041\n",
      "new EPS: 9.78367598856516\n"
     ]
    }
   ],
   "source": [
    "# cash financed, assuming no interest earned on cash\n",
    "stock_buyback_cash = 5e9\n",
    "stock_buyback_stock = stock_buyback_cash / 252\n",
    "\n",
    "bs.loc[\"Total Stockholder Equity\"][0] -= stock_buyback_cash\n",
    "cf.loc[\"Repurchase Of Stock\"] -= stock_buyback_cash\n",
    "info[\"sharesOutstanding\"] -= stock_buyback_stock\n",
    "\n",
    "bs.loc[\"Cash\"][0] -= stock_buyback_cash\n",
    "\n",
    "# ratios\n",
    "net_profit_margin = pl.loc[\"Net Income\"][0] / pl.loc[\"Total Revenue\"][0]\n",
    "asset_turnover = pl.loc[\"Total Revenue\"][0] / bs.loc[\"Total Assets\"][0]\n",
    "equity_mulitplier = bs.loc[\"Total Assets\"][0] / bs.loc[\"Total Stockholder Equity\"][0]\n",
    "leverage = bs.loc[\"Total Liab\"][0] / bs.loc[\"Total Stockholder Equity\"][0]\n",
    "buyback_ratio = cf.loc[\"Repurchase Of Stock\"][0] * -1 / info[\"marketCap\"]\n",
    "ROE = net_profit_margin * asset_turnover * equity_mulitplier\n",
    "EPS = pl.loc[\"Net Income\"][0] / info[\"sharesOutstanding\"]\n",
    "\n",
    "print(f\"old net_profit_margin: {df.loc[0][1]}\")\n",
    "print(f\"new net_profit_margin: {net_profit_margin}\")\n",
    "print(f\"old asset_turnover: {df.loc[0][2]}\") \n",
    "print(f\"new asset_turnover: {asset_turnover}\")\n",
    "print(f\"old equity_mulitplier: {df.loc[0][3]}\") \n",
    "print(f\"new equity_mulitplier: {equity_mulitplier}\")\n",
    "print(f\"old leverage: {df.loc[0][4]}\")\n",
    "print(f\"new leverage: {leverage}\")\n",
    "print(f\"old buyback_ratio: {df.loc[0][5]}\")\n",
    "print(f\"new buyback_ratio: {buyback_ratio}\")\n",
    "print(f\"old ROE: {df.loc[0][6]}\")\n",
    "print(f\"new ROE: {ROE}\")\n",
    "print(f\"old EPS: {df.loc[0][7]}\")\n",
    "print(f\"new EPS: {EPS}\")"
   ]
  },
  {
   "cell_type": "code",
   "execution_count": 77,
   "metadata": {},
   "outputs": [
    {
     "data": {
      "text/html": [
       "<div>\n",
       "<style scoped>\n",
       "    .dataframe tbody tr th:only-of-type {\n",
       "        vertical-align: middle;\n",
       "    }\n",
       "\n",
       "    .dataframe tbody tr th {\n",
       "        vertical-align: top;\n",
       "    }\n",
       "\n",
       "    .dataframe thead th {\n",
       "        text-align: right;\n",
       "    }\n",
       "</style>\n",
       "<table border=\"1\" class=\"dataframe\">\n",
       "  <thead>\n",
       "    <tr style=\"text-align: right;\">\n",
       "      <th></th>\n",
       "      <th>ratio</th>\n",
       "      <th>net_profit_margin</th>\n",
       "      <th>asset_turnover</th>\n",
       "      <th>equity_mulitplier</th>\n",
       "      <th>leverage</th>\n",
       "      <th>buyback_ratio</th>\n",
       "      <th>ROE</th>\n",
       "      <th>EPS</th>\n",
       "    </tr>\n",
       "  </thead>\n",
       "  <tbody>\n",
       "    <tr>\n",
       "      <th>0</th>\n",
       "      <td>old_value</td>\n",
       "      <td>0.366863</td>\n",
       "      <td>0.543444</td>\n",
       "      <td>2.190679</td>\n",
       "      <td>1.190679</td>\n",
       "      <td>0.017900</td>\n",
       "      <td>0.436755</td>\n",
       "      <td>9.757635</td>\n",
       "    </tr>\n",
       "    <tr>\n",
       "      <th>1</th>\n",
       "      <td>new_value</td>\n",
       "      <td>0.366863</td>\n",
       "      <td>0.543444</td>\n",
       "      <td>2.258484</td>\n",
       "      <td>1.227532</td>\n",
       "      <td>0.020638</td>\n",
       "      <td>0.450273</td>\n",
       "      <td>9.783676</td>\n",
       "    </tr>\n",
       "  </tbody>\n",
       "</table>\n",
       "</div>"
      ],
      "text/plain": [
       "       ratio  net_profit_margin  asset_turnover  equity_mulitplier  leverage  \\\n",
       "0  old_value           0.366863        0.543444           2.190679  1.190679   \n",
       "1  new_value           0.366863        0.543444           2.258484  1.227532   \n",
       "\n",
       "   buyback_ratio       ROE       EPS  \n",
       "0       0.017900  0.436755  9.757635  \n",
       "1       0.020638  0.450273  9.783676  "
      ]
     },
     "execution_count": 77,
     "metadata": {},
     "output_type": "execute_result"
    }
   ],
   "source": [
    "change_cf = [\n",
    "    ['old_value', df.loc[0][1], df.loc[0][2], df.loc[0][3], df.loc[0][4], df.loc[0][5], df.loc[0][6], df.loc[0][7]],\n",
    "    ['new_value', net_profit_margin, asset_turnover, equity_mulitplier, leverage, buyback_ratio, ROE, EPS] \n",
    "]\n",
    "change_cf_table = pd.DataFrame(change_cf, columns =['ratio','net_profit_margin', 'asset_turnover', 'equity_mulitplier', 'leverage', 'buyback_ratio', 'ROE', 'EPS'])\n",
    "change_cf_table\n"
   ]
  },
  {
   "cell_type": "code",
   "execution_count": 78,
   "metadata": {},
   "outputs": [
    {
     "data": {
      "image/png": "[encoded data removed]",
      "text/plain": [
       "<Figure size 432x288 with 1 Axes>"
      ]
     },
     "metadata": {
      "needs_background": "light"
     },
     "output_type": "display_data"
    }
   ],
   "source": [
    "change_cf_table.plot(x='ratio', y=['equity_mulitplier', 'leverage', 'buyback_ratio', 'ROE', 'EPS'], kind='bar')\n",
    "plt.show()"
   ]
  },
  {
   "cell_type": "code",
   "execution_count": 79,
   "metadata": {},
   "outputs": [
    {
     "name": "stdout",
     "output_type": "stream",
     "text": [
      "old net_profit_margin: 0.3668633681343622\n",
      "new net_profit_margin: 0.36585464265900036\n",
      "old asset_turnover: 0.5434437013485364\n",
      "new asset_turnover: 0.5434437013485364\n",
      "old equity_mulitplier: 2.1906786276134547\n",
      "new equity_mulitplier: 2.3306205363416845\n",
      "old leverage: 1.1906786276134549\n",
      "new leverage: 1.298680226392917\n",
      "old buyback_ratio: 0.01790022912472676\n",
      "new buyback_ratio: 0.02337497500334395\n",
      "old ROE: 0.43675469250999743\n",
      "new ROE: 0.46337724061274294\n",
      "old EPS: 9.757635163184041\n",
      "new EPS: 9.782883053556757\n"
     ]
    }
   ],
   "source": [
    "# debt financed, assuming 4% interest on new debt and no change in taxes\n",
    "stock_buyback_cash = 5e9\n",
    "stock_buyback_stock = stock_buyback_cash / 252\n",
    "\n",
    "bs.loc[\"Total Stockholder Equity\"][0] -= stock_buyback_cash\n",
    "cf.loc[\"Repurchase Of Stock\"] -= stock_buyback_cash\n",
    "info[\"sharesOutstanding\"] -= stock_buyback_stock\n",
    "\n",
    "bs.loc[\"Total Liab\"][0] += stock_buyback_cash\n",
    "pl.loc[\"Net Income\"][0] -= (stock_buyback_cash * (4 / 100))\n",
    "\n",
    "# ratios\n",
    "net_profit_margin = pl.loc[\"Net Income\"][0] / pl.loc[\"Total Revenue\"][0]\n",
    "asset_turnover = pl.loc[\"Total Revenue\"][0] / bs.loc[\"Total Assets\"][0]\n",
    "equity_mulitplier = bs.loc[\"Total Assets\"][0] / bs.loc[\"Total Stockholder Equity\"][0]\n",
    "leverage = bs.loc[\"Total Liab\"][0] / bs.loc[\"Total Stockholder Equity\"][0]\n",
    "buyback_ratio = cf.loc[\"Repurchase Of Stock\"][0] * -1 / info[\"marketCap\"]\n",
    "ROE = net_profit_margin * asset_turnover * equity_mulitplier\n",
    "EPS = pl.loc[\"Net Income\"][0] / info[\"sharesOutstanding\"]\n",
    "\n",
    "print(f\"old net_profit_margin: {df.loc[0][1]}\")\n",
    "print(f\"new net_profit_margin: {net_profit_margin}\")\n",
    "print(f\"old asset_turnover: {df.loc[0][2]}\") \n",
    "print(f\"new asset_turnover: {asset_turnover}\")\n",
    "print(f\"old equity_mulitplier: {df.loc[0][3]}\") \n",
    "print(f\"new equity_mulitplier: {equity_mulitplier}\")\n",
    "print(f\"old leverage: {df.loc[0][4]}\")\n",
    "print(f\"new leverage: {leverage}\")\n",
    "print(f\"old buyback_ratio: {df.loc[0][5]}\")\n",
    "print(f\"new buyback_ratio: {buyback_ratio}\")\n",
    "print(f\"old ROE: {df.loc[0][6]}\")\n",
    "print(f\"new ROE: {ROE}\")\n",
    "print(f\"old EPS: {df.loc[0][7]}\")\n",
    "print(f\"new EPS: {EPS}\")"
   ]
  },
  {
   "cell_type": "code",
   "execution_count": 80,
   "metadata": {},
   "outputs": [
    {
     "data": {
      "text/html": [
       "<div>\n",
       "<style scoped>\n",
       "    .dataframe tbody tr th:only-of-type {\n",
       "        vertical-align: middle;\n",
       "    }\n",
       "\n",
       "    .dataframe tbody tr th {\n",
       "        vertical-align: top;\n",
       "    }\n",
       "\n",
       "    .dataframe thead th {\n",
       "        text-align: right;\n",
       "    }\n",
       "</style>\n",
       "<table border=\"1\" class=\"dataframe\">\n",
       "  <thead>\n",
       "    <tr style=\"text-align: right;\">\n",
       "      <th></th>\n",
       "      <th>ratio</th>\n",
       "      <th>net_profit_margin</th>\n",
       "      <th>asset_turnover</th>\n",
       "      <th>equity_mulitplier</th>\n",
       "      <th>leverage</th>\n",
       "      <th>buyback_ratio</th>\n",
       "      <th>ROE</th>\n",
       "      <th>EPS</th>\n",
       "    </tr>\n",
       "  </thead>\n",
       "  <tbody>\n",
       "    <tr>\n",
       "      <th>0</th>\n",
       "      <td>old_value</td>\n",
       "      <td>0.366863</td>\n",
       "      <td>0.543444</td>\n",
       "      <td>2.190679</td>\n",
       "      <td>1.190679</td>\n",
       "      <td>0.017900</td>\n",
       "      <td>0.436755</td>\n",
       "      <td>9.757635</td>\n",
       "    </tr>\n",
       "    <tr>\n",
       "      <th>1</th>\n",
       "      <td>new_value</td>\n",
       "      <td>0.365855</td>\n",
       "      <td>0.543444</td>\n",
       "      <td>2.330621</td>\n",
       "      <td>1.298680</td>\n",
       "      <td>0.023375</td>\n",
       "      <td>0.463377</td>\n",
       "      <td>9.782883</td>\n",
       "    </tr>\n",
       "  </tbody>\n",
       "</table>\n",
       "</div>"
      ],
      "text/plain": [
       "       ratio  net_profit_margin  asset_turnover  equity_mulitplier  leverage  \\\n",
       "0  old_value           0.366863        0.543444           2.190679  1.190679   \n",
       "1  new_value           0.365855        0.543444           2.330621  1.298680   \n",
       "\n",
       "   buyback_ratio       ROE       EPS  \n",
       "0       0.017900  0.436755  9.757635  \n",
       "1       0.023375  0.463377  9.782883  "
      ]
     },
     "execution_count": 80,
     "metadata": {},
     "output_type": "execute_result"
    }
   ],
   "source": [
    "change_df = [\n",
    "    ['old_value', df.loc[0][1], df.loc[0][2], df.loc[0][3], df.loc[0][4], df.loc[0][5], df.loc[0][6], df.loc[0][7]],\n",
    "    ['new_value', net_profit_margin, asset_turnover, equity_mulitplier, leverage, buyback_ratio, ROE, EPS] \n",
    "]\n",
    "change_df_table = pd.DataFrame(change_df, columns =['ratio','net_profit_margin', 'asset_turnover', 'equity_mulitplier', 'leverage', 'buyback_ratio', 'ROE', 'EPS'])\n",
    "change_df_table"
   ]
  },
  {
   "cell_type": "code",
   "execution_count": 81,
   "metadata": {},
   "outputs": [
    {
     "data": {
      "image/png": "[encoded data removed]",
      "text/plain": [
       "<Figure size 432x288 with 1 Axes>"
      ]
     },
     "metadata": {
      "needs_background": "light"
     },
     "output_type": "display_data"
    }
   ],
   "source": [
    "change_df_table.plot(x='ratio', y=['net_profit_margin', 'equity_mulitplier', 'leverage', 'buyback_ratio', 'ROE', 'EPS'], kind='bar')\n",
    "plt.show()"
   ]
  }
 ],
 "metadata": {
  "kernelspec": {
   "display_name": "Python 3.9.12 ('base')",
   "language": "python",
   "name": "python3"
  },
  "language_info": {
   "codemirror_mode": {
    "name": "ipython",
    "version": 3
   },
   "file_extension": ".py",
   "mimetype": "text/x-python",
   "name": "python",
   "nbconvert_exporter": "python",
   "pygments_lexer": "ipython3",
   "version": "3.9.12"
  },
  "orig_nbformat": 4,
  "vscode": {
   "interpreter": {
    "hash": "40d3a090f54c6569ab1632332b64b2c03c39dcf918b08424e98f38b5ae0af88f"
   }
  }
 },
 "nbformat": 4,
 "nbformat_minor": 2
}
