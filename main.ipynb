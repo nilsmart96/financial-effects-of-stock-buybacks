{
 "cells": [
  {
   "cell_type": "code",
   "execution_count": 43,
   "metadata": {},
   "outputs": [],
   "source": [
    "# import of necessary libraries\n",
    "import yfinance as yf\n",
    "import pandas as pd"
   ]
  },
  {
   "cell_type": "code",
   "execution_count": 44,
   "metadata": {},
   "outputs": [],
   "source": [
    "# connecting to the API for the companies\n",
    "msft = yf.Ticker(\"MSFT\")\n",
    "aapl = yf.Ticker(\"AAPL\")\n",
    "ibm = yf.Ticker(\"IBM\")"
   ]
  },
  {
   "cell_type": "code",
   "execution_count": 45,
   "metadata": {},
   "outputs": [],
   "source": [
    "# retrieving the required company data\n",
    "msft_info = msft.info\n",
    "aapl_info = aapl.info\n",
    "ibm_info = ibm.info\n",
    "\n",
    "msft_pl = msft.financials\n",
    "aapl_pl = aapl.financials\n",
    "ibm_pl = ibm.financials\n",
    "\n",
    "msft_bs = msft.balance_sheet\n",
    "aapl_bs = aapl.balance_sheet\n",
    "ibm_bs = ibm.balance_sheet\n",
    "\n",
    "msft_cf = msft.cashflow\n",
    "aapl_cf = aapl.cashflow\n",
    "ibm_cf = ibm.cashflow"
   ]
  },
  {
   "cell_type": "code",
   "execution_count": 46,
   "metadata": {},
   "outputs": [],
   "source": [
    "# organizing the values in a dictionary\n",
    "comp_dict = [\n",
    "    {\"comp\": \"Microsoft\", \"info\": msft_info, \"pl\": msft_pl, \"bs\": msft_bs, \"cf\": msft_cf},\n",
    "    {\"comp\": \"Apple\", \"info\": aapl_info, \"pl\": aapl_pl, \"bs\": aapl_bs, \"cf\": aapl_cf},\n",
    "    {\"comp\": \"IBM\", \"info\": ibm_info, \"pl\": ibm_pl, \"bs\": ibm_bs, \"cf\": ibm_cf}\n",
    "]"
   ]
  },
  {
   "cell_type": "code",
   "execution_count": 47,
   "metadata": {},
   "outputs": [],
   "source": [
    "# function to calculate the different financial ratios\n",
    "def ratio_collection(info, pl, bs, cf):\n",
    "\n",
    "    net_profit_margin = pl.loc[\"Net Income\"][0] / pl.loc[\"Total Revenue\"][0]\n",
    "    asset_turnover = pl.loc[\"Total Revenue\"][0] / bs.loc[\"Total Assets\"][0]\n",
    "    equity_mulitplier = bs.loc[\"Total Assets\"][0] / bs.loc[\"Total Stockholder Equity\"][0]\n",
    "    leverage = bs.loc[\"Total Liab\"][0] / bs.loc[\"Total Stockholder Equity\"][0]\n",
    "    buyback_ratio = cf.loc[\"Repurchase Of Stock\"][0] * -1 / info[\"marketCap\"]\n",
    "    ROE = net_profit_margin * asset_turnover * equity_mulitplier\n",
    "    EPS = pl.loc[\"Net Income\"][0] / info[\"sharesOutstanding\"]\n",
    "\n",
    "    return net_profit_margin, asset_turnover, equity_mulitplier, leverage, buyback_ratio, ROE, EPS"
   ]
  },
  {
   "cell_type": "code",
   "execution_count": 48,
   "metadata": {},
   "outputs": [],
   "source": [
    "# Loop that iterates through the dictionary and uses the function above\n",
    "# to calculate the respective ratios.\n",
    "for entity in comp_dict:\n",
    "    result = list(ratio_collection(info=entity[\"info\"], pl=entity[\"pl\"], \n",
    "    bs=entity[\"bs\"], cf=entity[\"cf\"]))\n",
    "\n",
    "    entity[\"net_profit_margin\"] = result[0]\n",
    "    entity[\"asset_turnover\"] = result[1]\n",
    "    entity[\"equity_mulitplier\"] = result[2]\n",
    "    entity[\"leverage\"] = result[3]\n",
    "    entity[\"buyback_ratio\"] = result[4]\n",
    "    entity[\"ROE\"] = result[5]\n",
    "    entity[\"EPS\"] = result[6]"
   ]
  },
  {
   "cell_type": "code",
   "execution_count": 49,
   "metadata": {},
   "outputs": [
    {
     "data": {
      "text/html": [
       "<div>\n",
       "<style scoped>\n",
       "    .dataframe tbody tr th:only-of-type {\n",
       "        vertical-align: middle;\n",
       "    }\n",
       "\n",
       "    .dataframe tbody tr th {\n",
       "        vertical-align: top;\n",
       "    }\n",
       "\n",
       "    .dataframe thead th {\n",
       "        text-align: right;\n",
       "    }\n",
       "</style>\n",
       "<table border=\"1\" class=\"dataframe\">\n",
       "  <thead>\n",
       "    <tr style=\"text-align: right;\">\n",
       "      <th></th>\n",
       "      <th>comp</th>\n",
       "      <th>net_profit_margin</th>\n",
       "      <th>asset_turnover</th>\n",
       "      <th>equity_mulitplier</th>\n",
       "      <th>leverage</th>\n",
       "      <th>buyback_ratio</th>\n",
       "      <th>ROE</th>\n",
       "      <th>EPS</th>\n",
       "    </tr>\n",
       "  </thead>\n",
       "  <tbody>\n",
       "    <tr>\n",
       "      <th>0</th>\n",
       "      <td>Microsoft</td>\n",
       "      <td>0.366863</td>\n",
       "      <td>0.543444</td>\n",
       "      <td>2.190679</td>\n",
       "      <td>1.190679</td>\n",
       "      <td>0.018121</td>\n",
       "      <td>0.436755</td>\n",
       "      <td>9.757635</td>\n",
       "    </tr>\n",
       "    <tr>\n",
       "      <th>1</th>\n",
       "      <td>Apple</td>\n",
       "      <td>0.253096</td>\n",
       "      <td>1.117852</td>\n",
       "      <td>6.961537</td>\n",
       "      <td>5.961537</td>\n",
       "      <td>0.040613</td>\n",
       "      <td>1.969589</td>\n",
       "      <td>6.273722</td>\n",
       "    </tr>\n",
       "    <tr>\n",
       "      <th>2</th>\n",
       "      <td>IBM</td>\n",
       "      <td>0.100138</td>\n",
       "      <td>0.434474</td>\n",
       "      <td>6.983810</td>\n",
       "      <td>5.978784</td>\n",
       "      <td>0.002426</td>\n",
       "      <td>0.303846</td>\n",
       "      <td>6.407310</td>\n",
       "    </tr>\n",
       "  </tbody>\n",
       "</table>\n",
       "</div>"
      ],
      "text/plain": [
       "        comp  net_profit_margin  asset_turnover  equity_mulitplier  leverage  \\\n",
       "0  Microsoft           0.366863        0.543444           2.190679  1.190679   \n",
       "1      Apple           0.253096        1.117852           6.961537  5.961537   \n",
       "2        IBM           0.100138        0.434474           6.983810  5.978784   \n",
       "\n",
       "   buyback_ratio       ROE       EPS  \n",
       "0       0.018121  0.436755  9.757635  \n",
       "1       0.040613  1.969589  6.273722  \n",
       "2       0.002426  0.303846  6.407310  "
      ]
     },
     "execution_count": 49,
     "metadata": {},
     "output_type": "execute_result"
    }
   ],
   "source": [
    "# organizing the results in a dataframe\n",
    "df = pd.DataFrame(comp_dict)\n",
    "df = df.drop(columns=[\"info\", \"pl\", \"bs\", \"cf\"])\n",
    "df.head()"
   ]
  },
  {
   "cell_type": "code",
   "execution_count": 36,
   "metadata": {},
   "outputs": [],
   "source": [
    "info = msft_info\n",
    "pl = msft_pl\n",
    "bs = msft_bs\n",
    "cf = msft_cf"
   ]
  },
  {
   "cell_type": "code",
   "execution_count": 37,
   "metadata": {},
   "outputs": [],
   "source": [
    "#info = aapl_info\n",
    "#pl = aapl_pl\n",
    "#bs = aapl_bs\n",
    "#cf = aapl_cf"
   ]
  },
  {
   "cell_type": "code",
   "execution_count": 38,
   "metadata": {},
   "outputs": [],
   "source": [
    "#info = ibm_info\n",
    "#pl = ibm_pl\n",
    "#bs = ibm_bs\n",
    "#cf = ibm_cf"
   ]
  },
  {
   "cell_type": "code",
   "execution_count": 39,
   "metadata": {},
   "outputs": [
    {
     "name": "stdout",
     "output_type": "stream",
     "text": [
      "old net_profit_margin: 0.3668633681343622\n",
      "new net_profit_margin: 0.3668633681343622\n",
      "old asset_turnover: 0.5434437013485364\n",
      "new asset_turnover: 0.5434437013485364\n",
      "old equity_mulitplier: 2.1906786276134547\n",
      "new equity_mulitplier: 2.258483861782075\n",
      "old leverage: 1.1906786276134549\n",
      "new leverage: 1.2275321588193782\n",
      "old buyback_ratio: 0.01811536939411826\n",
      "new buyback_ratio: 0.020885642423558906\n",
      "old ROE: 0.43675469250999743\n",
      "new ROE: 0.45027299402013093\n",
      "old EPS: 9.757635163184041\n",
      "new EPS: 9.78367598856516\n"
     ]
    }
   ],
   "source": [
    "# cash financed, assuming no interest earned on cash\n",
    "stock_buyback_cash = 5e9\n",
    "stock_buyback_stock = stock_buyback_cash / 252\n",
    "\n",
    "bs.loc[\"Total Stockholder Equity\"][0] -= stock_buyback_cash\n",
    "cf.loc[\"Repurchase Of Stock\"] -= stock_buyback_cash\n",
    "info[\"sharesOutstanding\"] -= stock_buyback_stock\n",
    "\n",
    "bs.loc[\"Cash\"][0] -= stock_buyback_cash\n",
    "\n",
    "# ratios\n",
    "net_profit_margin = pl.loc[\"Net Income\"][0] / pl.loc[\"Total Revenue\"][0]\n",
    "asset_turnover = pl.loc[\"Total Revenue\"][0] / bs.loc[\"Total Assets\"][0]\n",
    "equity_mulitplier = bs.loc[\"Total Assets\"][0] / bs.loc[\"Total Stockholder Equity\"][0]\n",
    "leverage = bs.loc[\"Total Liab\"][0] / bs.loc[\"Total Stockholder Equity\"][0]\n",
    "buyback_ratio = cf.loc[\"Repurchase Of Stock\"][0] * -1 / info[\"marketCap\"]\n",
    "ROE = net_profit_margin * asset_turnover * equity_mulitplier\n",
    "EPS = pl.loc[\"Net Income\"][0] / info[\"sharesOutstanding\"]\n",
    "\n",
    "print(f\"old net_profit_margin: {df.loc[0][1]}\")\n",
    "print(f\"new net_profit_margin: {net_profit_margin}\")\n",
    "print(f\"old asset_turnover: {df.loc[0][2]}\") \n",
    "print(f\"new asset_turnover: {asset_turnover}\")\n",
    "print(f\"old equity_mulitplier: {df.loc[0][3]}\") \n",
    "print(f\"new equity_mulitplier: {equity_mulitplier}\")\n",
    "print(f\"old leverage: {df.loc[0][4]}\")\n",
    "print(f\"new leverage: {leverage}\")\n",
    "print(f\"old buyback_ratio: {df.loc[0][5]}\")\n",
    "print(f\"new buyback_ratio: {buyback_ratio}\")\n",
    "print(f\"old ROE: {df.loc[0][6]}\")\n",
    "print(f\"new ROE: {ROE}\")\n",
    "print(f\"old EPS: {df.loc[0][7]}\")\n",
    "print(f\"new EPS: {EPS}\")"
   ]
  },
  {
   "cell_type": "code",
   "execution_count": 50,
   "metadata": {},
   "outputs": [
    {
     "name": "stdout",
     "output_type": "stream",
     "text": [
      "old net_profit_margin: 0.3668633681343622\n",
      "new net_profit_margin: 0.36585464265900036\n",
      "old asset_turnover: 0.5434437013485364\n",
      "new asset_turnover: 0.5434437013485364\n",
      "old equity_mulitplier: 2.1906786276134547\n",
      "new equity_mulitplier: 2.3306205363416845\n",
      "old leverage: 1.1906786276134549\n",
      "new leverage: 1.298680226392917\n",
      "old buyback_ratio: 0.018120606825006703\n",
      "new buyback_ratio: 0.02365591545299955\n",
      "old ROE: 0.43675469250999743\n",
      "new ROE: 0.46337724061274294\n",
      "old EPS: 9.757635163184041\n",
      "new EPS: 9.782883053556757\n"
     ]
    }
   ],
   "source": [
    "# debt financed, assuming 4% interest on new debt and no change in taxes\n",
    "stock_buyback_cash = 5e9\n",
    "stock_buyback_stock = stock_buyback_cash / 252\n",
    "\n",
    "bs.loc[\"Total Stockholder Equity\"][0] -= stock_buyback_cash\n",
    "cf.loc[\"Repurchase Of Stock\"] -= stock_buyback_cash\n",
    "info[\"sharesOutstanding\"] -= stock_buyback_stock\n",
    "\n",
    "bs.loc[\"Total Liab\"][0] += stock_buyback_cash\n",
    "pl.loc[\"Net Income\"][0] -= (stock_buyback_cash * (4 / 100))\n",
    "\n",
    "# ratios\n",
    "net_profit_margin = pl.loc[\"Net Income\"][0] / pl.loc[\"Total Revenue\"][0]\n",
    "asset_turnover = pl.loc[\"Total Revenue\"][0] / bs.loc[\"Total Assets\"][0]\n",
    "equity_mulitplier = bs.loc[\"Total Assets\"][0] / bs.loc[\"Total Stockholder Equity\"][0]\n",
    "leverage = bs.loc[\"Total Liab\"][0] / bs.loc[\"Total Stockholder Equity\"][0]\n",
    "buyback_ratio = cf.loc[\"Repurchase Of Stock\"][0] * -1 / info[\"marketCap\"]\n",
    "ROE = net_profit_margin * asset_turnover * equity_mulitplier\n",
    "EPS = pl.loc[\"Net Income\"][0] / info[\"sharesOutstanding\"]\n",
    "\n",
    "print(f\"old net_profit_margin: {df.loc[0][1]}\")\n",
    "print(f\"new net_profit_margin: {net_profit_margin}\")\n",
    "print(f\"old asset_turnover: {df.loc[0][2]}\") \n",
    "print(f\"new asset_turnover: {asset_turnover}\")\n",
    "print(f\"old equity_mulitplier: {df.loc[0][3]}\") \n",
    "print(f\"new equity_mulitplier: {equity_mulitplier}\")\n",
    "print(f\"old leverage: {df.loc[0][4]}\")\n",
    "print(f\"new leverage: {leverage}\")\n",
    "print(f\"old buyback_ratio: {df.loc[0][5]}\")\n",
    "print(f\"new buyback_ratio: {buyback_ratio}\")\n",
    "print(f\"old ROE: {df.loc[0][6]}\")\n",
    "print(f\"new ROE: {ROE}\")\n",
    "print(f\"old EPS: {df.loc[0][7]}\")\n",
    "print(f\"new EPS: {EPS}\")"
   ]
  }
 ],
 "metadata": {
  "kernelspec": {
   "display_name": "Python 3.10.4 ('FS_Base')",
   "language": "python",
   "name": "python3"
  },
  "language_info": {
   "codemirror_mode": {
    "name": "ipython",
    "version": 3
   },
   "file_extension": ".py",
   "mimetype": "text/x-python",
   "name": "python",
   "nbconvert_exporter": "python",
   "pygments_lexer": "ipython3",
   "version": "3.10.4"
  },
  "orig_nbformat": 4,
  "vscode": {
   "interpreter": {
    "hash": "092fd3b47a62a288d64e0d56cb1d943a7dfc85b85fdb59434f57bdf2cec50c7f"
   }
  }
 },
 "nbformat": 4,
 "nbformat_minor": 2
}
